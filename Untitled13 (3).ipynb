{
  "nbformat": 4,
  "nbformat_minor": 0,
  "metadata": {
    "colab": {
      "provenance": [],
      "gpuType": "T4"
    },
    "kernelspec": {
      "name": "python3",
      "display_name": "Python 3"
    },
    "language_info": {
      "name": "python"
    },
    "accelerator": "GPU"
  },
  "cells": [
    {
      "cell_type": "markdown",
      "source": [
        "# Libraries"
      ],
      "metadata": {
        "id": "ZyQ2R22mrGCd"
      }
    },
    {
      "cell_type": "code",
      "execution_count": 1,
      "metadata": {
        "id": "K-fSqiqars7i"
      },
      "outputs": [],
      "source": [
        "import tensorflow as tf\n",
        "import numpy as np\n",
        "import pandas as pd\n",
        "import matplotlib.pyplot as plt\n",
        "from math import log10,sqrt\n",
        "from glob import glob\n",
        "import cv2\n",
        "import os\n",
        "import keras\n",
        "from tensorflow.keras import layers\n",
        "import matplotlib.pyplot as plt"
      ]
    },
    {
      "cell_type": "markdown",
      "source": [
        "# Data Loading"
      ],
      "metadata": {
        "id": "HAfPOgn6rLoX"
      }
    },
    {
      "cell_type": "code",
      "source": [
        "batch_size = 16"
      ],
      "metadata": {
        "id": "IkB4iLLWlm51"
      },
      "execution_count": 12,
      "outputs": []
    },
    {
      "cell_type": "code",
      "source": [
        "def data_preprocess2(path):\n",
        "    img = tf.io.read_file(path)\n",
        "    img = tf.image.decode_png(img, channels=3)\n",
        "    img = tf.image.resize(images=img, size=[400, 400])\n",
        "    img = img / 255.0\n",
        "    return img\n",
        "def data_preprocess1(images):\n",
        "    img = tf.data.Dataset.from_tensor_slices((images))\n",
        "    img = img.map(data_preprocess2, num_parallel_calls=tf.data.AUTOTUNE)\n",
        "    img = img.batch(batch_size, drop_remainder=True)\n",
        "    return img"
      ],
      "metadata": {
        "id": "dotoZluXkuc5"
      },
      "execution_count": 13,
      "outputs": []
    },
    {
      "cell_type": "code",
      "source": [
        "train_images = sorted(glob(\"/content/drive/MyDrive/lol_dataset/our485/low/*\"))[:420]\n",
        "val_images = sorted(glob(\"/content/drive/MyDrive/lol_dataset/our485/low/*\"))[420:]\n",
        "test_images = sorted(glob(\"/content/drive/MyDrive/lol_dataset/eval15/low/*\"))\n",
        "\n",
        "\n",
        "train_dataset = data_preprocess1(train_images)\n",
        "val_dataset = data_preprocess1(val_images)\n",
        "batch_size=1\n",
        "test_dataset = data_preprocess1(test_images)"
      ],
      "metadata": {
        "id": "ViGf6O4z69wT"
      },
      "execution_count": 4,
      "outputs": []
    },
    {
      "cell_type": "markdown",
      "source": [
        "# Model"
      ],
      "metadata": {
        "id": "Sf1cIZuLrPC1"
      }
    },
    {
      "cell_type": "code",
      "source": [
        "def build_dce_net():\n",
        "    input = keras.Input(shape=[None, None, 3])\n",
        "    c0 = layers.Conv2D(16, (3, 3), strides=(1, 1), activation=\"relu\", padding=\"same\")(input)\n",
        "    c1 = layers.Conv2D(32, (3, 3), strides=(1, 1), activation=\"relu\", padding=\"same\")(c0)\n",
        "    c2 = layers.Conv2D(32, (3, 3), strides=(1, 1), activation=\"relu\", padding=\"same\")(c1)\n",
        "    c3 = layers.Conv2D(32, (3, 3), strides=(1, 1), activation=\"relu\", padding=\"same\")(c2)\n",
        "    c4 = layers.Conv2D(32, (3, 3), strides=(1, 1), activation=\"relu\", padding=\"same\")(c3)\n",
        "    con1 = layers.Concatenate(axis=-1)([c4, c3])\n",
        "    c5 = layers.Conv2D(32, (3, 3), strides=(1, 1), activation=\"relu\", padding=\"same\")(con1)\n",
        "    con2 = layers.Concatenate(axis=-1)([c5, c2])\n",
        "    c6 = layers.Conv2D(32, (3, 3), strides=(1, 1), activation=\"relu\", padding=\"same\")(con2)\n",
        "    con3 = layers.Concatenate(axis=-1)([c6, c1])\n",
        "    output = layers.Conv2D(24, (3, 3), strides=(1, 1), activation=\"tanh\", padding=\"same\")(con3)\n",
        "    return keras.Model(inputs=input, outputs=output)"
      ],
      "metadata": {
        "id": "FssDtWqYmF4n"
      },
      "execution_count": 5,
      "outputs": []
    },
    {
      "cell_type": "markdown",
      "source": [
        "# Losses"
      ],
      "metadata": {
        "id": "eY2-YMl2rRdw"
      }
    },
    {
      "cell_type": "code",
      "source": [
        "def ConstancyLoss(image_tensor):\n",
        "    # Compute the mean RGB values across the height and width dimensions\n",
        "    mean_colors = tf.reduce_mean(image_tensor, axis=(1, 2), keepdims=True)\n",
        "\n",
        "    # Extract the mean values for each channel\n",
        "    mean_r, mean_g, mean_b = (\n",
        "        mean_colors[:, :, :, 0],\n",
        "        mean_colors[:, :, :, 1],\n",
        "        mean_colors[:, :, :, 2],\n",
        "    )\n",
        "\n",
        "    # Calculate the squared differences between the mean values of each pair of channels\n",
        "    diff_rg = tf.square(mean_r - mean_g)\n",
        "    diff_rb = tf.square(mean_r - mean_b)\n",
        "    diff_gb = tf.square(mean_b - mean_g)\n",
        "\n",
        "    # Return the combined loss as the square root of the sum of the squared differences\n",
        "    return tf.sqrt(diff_rg + diff_rb + diff_gb)"
      ],
      "metadata": {
        "id": "dru0peQ1mG4h"
      },
      "execution_count": 6,
      "outputs": []
    },
    {
      "cell_type": "code",
      "source": [
        "def ExposureLoss(image_tensor, target_mean_value=0.6):\n",
        "    # Compute the mean intensity value across the RGB channels\n",
        "    mean_intensity = tf.reduce_mean(image_tensor, axis=3, keepdims=True)\n",
        "\n",
        "    # Perform average pooling with a kernel size and stride of 16\n",
        "    pooled_mean_intensity = tf.nn.avg_pool2d(mean_intensity, ksize=16, strides=16, padding=\"VALID\")\n",
        "\n",
        "    # Calculate the exposure loss as the mean squared difference from the target mean value\n",
        "    ExposureLoss_value = tf.reduce_mean(tf.square(pooled_mean_intensity - target_mean_value))\n",
        "\n",
        "    return ExposureLoss_value"
      ],
      "metadata": {
        "id": "ZJequXRSr1Gy"
      },
      "execution_count": 7,
      "outputs": []
    },
    {
      "cell_type": "code",
      "source": [
        "def SmoothnessLoss(image_tensor):\n",
        "    batch_size = tf.shape(image_tensor)[0]\n",
        "    height = tf.shape(image_tensor)[1]\n",
        "    width = tf.shape(image_tensor)[2]\n",
        "    channels = tf.shape(image_tensor)[3]\n",
        "\n",
        "    # Calculate the total number of horizontal and vertical differences\n",
        "    total_horizontal = (width - 1) * channels\n",
        "    total_vertical = width * (channels - 1)\n",
        "\n",
        "    # Compute the horizontal and vertical total variation\n",
        "    horizontal_variation = tf.reduce_sum(tf.square(image_tensor[:, 1:, :, :] - image_tensor[:, :-1, :, :]))\n",
        "    vertical_variation = tf.reduce_sum(tf.square(image_tensor[:, :, 1:, :] - image_tensor[:, :, :-1, :]))\n",
        "\n",
        "    # Cast to float32 for division\n",
        "    total_horizontal = tf.cast(total_horizontal, dtype=tf.float32)\n",
        "    total_vertical = tf.cast(total_vertical, dtype=tf.float32)\n",
        "    batch_size = tf.cast(batch_size, dtype=tf.float32)\n",
        "\n",
        "    # Return the average smoothness loss per batch\n",
        "    return 2 * (horizontal_variation / total_horizontal + vertical_variation / total_vertical) / batch_size"
      ],
      "metadata": {
        "id": "AwxtZoMnsHY_"
      },
      "execution_count": 8,
      "outputs": []
    },
    {
      "cell_type": "code",
      "source": [
        "class SpatialConsistencyLoss(keras.losses.Loss):\n",
        "    def __init__(self, **kwargs):\n",
        "        super().__init__(reduction=\"none\")\n",
        "        self.kernels = {\n",
        "            \"left\": tf.constant([[[[0, 0, 0]], [[-1, 1, 0]], [[0, 0, 0]]]], dtype=tf.float32),\n",
        "            \"right\": tf.constant([[[[0, 0, 0]], [[0, 1, -1]], [[0, 0, 0]]]], dtype=tf.float32),\n",
        "            \"up\": tf.constant([[[[0, -1, 0]], [[0, 1, 0]], [[0, 0, 0]]]], dtype=tf.float32),\n",
        "            \"down\": tf.constant([[[[0, 0, 0]], [[0, 1, 0]], [[0, -1, 0]]]], dtype=tf.float32)\n",
        "        }\n",
        "\n",
        "    def call(self, true, pred):\n",
        "        mean_true = tf.reduce_mean(true, axis=3, keepdims=True)\n",
        "        mean_pred = tf.reduce_mean(pred, axis=3, keepdims=True)\n",
        "\n",
        "        pool_true = tf.nn.avg_pool2d(mean_true, ksize=4, strides=4, padding=\"VALID\")\n",
        "        pool_pred = tf.nn.avg_pool2d(mean_pred, ksize=4, strides=4, padding=\"VALID\")\n",
        "\n",
        "        diffs = []\n",
        "        for direction, kernel in self.kernels.items():\n",
        "            diff_true = tf.nn.conv2d(pool_true, kernel, strides=[1, 1, 1, 1], padding=\"SAME\")\n",
        "            diff_pred = tf.nn.conv2d(pool_pred, kernel, strides=[1, 1, 1, 1], padding=\"SAME\")\n",
        "            diffs.append(tf.square(diff_true - diff_pred))\n",
        "\n",
        "        return tf.add_n(diffs)"
      ],
      "metadata": {
        "id": "WBOj11NJsZf6"
      },
      "execution_count": 9,
      "outputs": []
    },
    {
      "cell_type": "code",
      "source": [
        "class ZeroDCE(keras.Model):\n",
        "    def __init__(self, **kwargs):\n",
        "        super().__init__(**kwargs)\n",
        "        self.dce_model = build_dce_net()\n",
        "\n",
        "    def compile(self, learning_rate, **kwargs):\n",
        "        super().compile(**kwargs)\n",
        "        self.optimizer = keras.optimizers.Adam(learning_rate=learning_rate)\n",
        "        self.spatial_constancy_loss = SpatialConsistencyLoss(reduction=\"none\")\n",
        "        self.total_loss_tracker = keras.metrics.Mean(name=\"total_loss\")\n",
        "        self.SmoothnessLoss_tracker = keras.metrics.Mean(\n",
        "            name=\"SmoothnessLoss\"\n",
        "        )\n",
        "        self.spatial_constancy_loss_tracker = keras.metrics.Mean(\n",
        "            name=\"spatial_constancy_loss\"\n",
        "        )\n",
        "        self.ConstancyLoss_tracker = keras.metrics.Mean(\n",
        "            name=\"ConstancyLoss\"\n",
        "        )\n",
        "        self.ExposureLoss_tracker = keras.metrics.Mean(name=\"ExposureLoss\")\n",
        "\n",
        "    @property\n",
        "    def metrics(self):\n",
        "        return [\n",
        "            self.total_loss_tracker,\n",
        "            self.SmoothnessLoss_tracker,\n",
        "            self.spatial_constancy_loss_tracker,\n",
        "            self.ConstancyLoss_tracker,\n",
        "            self.ExposureLoss_tracker,\n",
        "        ]\n",
        "\n",
        "    def get_enhanced_image(self, data, output):\n",
        "        r1 = output[:, :, :, :3]\n",
        "        r2 = output[:, :, :, 3:6]\n",
        "        r3 = output[:, :, :, 6:9]\n",
        "        r4 = output[:, :, :, 9:12]\n",
        "        r5 = output[:, :, :, 12:15]\n",
        "        r6 = output[:, :, :, 15:18]\n",
        "        r7 = output[:, :, :, 18:21]\n",
        "        r8 = output[:, :, :, 21:24]\n",
        "        x = data + r1 * (tf.square(data) - data)\n",
        "        x = x + r2 * (tf.square(x) - x)\n",
        "        x = x + r3 * (tf.square(x) - x)\n",
        "        enhanced_image = x + r4 * (tf.square(x) - x)\n",
        "        x = enhanced_image + r5 * (tf.square(enhanced_image) - enhanced_image)\n",
        "        x = x + r6 * (tf.square(x) - x)\n",
        "        x = x + r7 * (tf.square(x) - x)\n",
        "        enhanced_image = x + r8 * (tf.square(x) - x)\n",
        "        return enhanced_image\n",
        "\n",
        "    def call(self, data):\n",
        "        dce_net_output = self.dce_model(data)\n",
        "        return self.get_enhanced_image(data, dce_net_output)\n",
        "\n",
        "    def compute_losses(self, data, output):\n",
        "        enhanced_image = self.get_enhanced_image(data, output)\n",
        "        loss_illumination = 200 * SmoothnessLoss(output)\n",
        "        loss_spatial_constancy = tf.reduce_mean(\n",
        "            self.spatial_constancy_loss(enhanced_image, data)\n",
        "        )\n",
        "        loss_color_constancy = 5 * tf.reduce_mean(ConstancyLoss(enhanced_image))\n",
        "        loss_exposure = 10 * tf.reduce_mean(ExposureLoss(enhanced_image))\n",
        "        total_loss = (\n",
        "            loss_illumination\n",
        "            + loss_spatial_constancy\n",
        "            + loss_color_constancy\n",
        "            + loss_exposure\n",
        "        )\n",
        "\n",
        "        return {\n",
        "            \"total_loss\": total_loss,\n",
        "            \"SmoothnessLoss\": loss_illumination,\n",
        "            \"spatial_constancy_loss\": loss_spatial_constancy,\n",
        "            \"ConstancyLoss\": loss_color_constancy,\n",
        "            \"ExposureLoss\": loss_exposure,\n",
        "        }\n",
        "\n",
        "    def train_step(self, data):\n",
        "        with tf.GradientTape() as tape:\n",
        "            output = self.dce_model(data)\n",
        "            losses = self.compute_losses(data, output)\n",
        "\n",
        "        gradients = tape.gradient(\n",
        "            losses[\"total_loss\"], self.dce_model.trainable_weights\n",
        "        )\n",
        "        self.optimizer.apply_gradients(zip(gradients, self.dce_model.trainable_weights))\n",
        "\n",
        "        self.total_loss_tracker.update_state(losses[\"total_loss\"])\n",
        "        self.SmoothnessLoss_tracker.update_state(\n",
        "            losses[\"SmoothnessLoss\"]\n",
        "        )\n",
        "        self.spatial_constancy_loss_tracker.update_state(\n",
        "            losses[\"spatial_constancy_loss\"]\n",
        "        )\n",
        "        self.ConstancyLoss_tracker.update_state(losses[\"ConstancyLoss\"])\n",
        "        self.ExposureLoss_tracker.update_state(losses[\"ExposureLoss\"])\n",
        "\n",
        "        return {metric.name: metric.result() for metric in self.metrics}\n",
        "\n",
        "    def test_step(self, data):\n",
        "        output = self.dce_model(data)\n",
        "        losses = self.compute_losses(data, output)\n",
        "\n",
        "        self.total_loss_tracker.update_state(losses[\"total_loss\"])\n",
        "        self.SmoothnessLoss_tracker.update_state(\n",
        "            losses[\"SmoothnessLoss\"]\n",
        "        )\n",
        "        self.spatial_constancy_loss_tracker.update_state(\n",
        "            losses[\"spatial_constancy_loss\"]\n",
        "        )\n",
        "        self.ConstancyLoss_tracker.update_state(losses[\"ConstancyLoss\"])\n",
        "        self.ExposureLoss_tracker.update_state(losses[\"ExposureLoss\"])\n",
        "\n",
        "        return {metric.name: metric.result() for metric in self.metrics}\n",
        "\n",
        "    def save_weights(self, filepath, overwrite=True, save_format=None, options=None):\n",
        "\n",
        "        self.dce_model.save_weights(\n",
        "            filepath,\n",
        "            overwrite=overwrite,\n",
        "            save_format=save_format,\n",
        "            options=options,\n",
        "        )\n",
        "\n",
        "    def load_weights(self, filepath, by_name=False, skip_mismatch=False, options=None):\n",
        "\n",
        "        self.dce_model.load_weights(\n",
        "            filepath=filepath,\n",
        "            by_name=by_name,\n",
        "            skip_mismatch=skip_mismatch,\n",
        "            options=options,\n",
        "        )"
      ],
      "metadata": {
        "id": "NsrBYpxLsuO2"
      },
      "execution_count": 10,
      "outputs": []
    },
    {
      "cell_type": "code",
      "source": [
        "model = ZeroDCE()\n",
        "model.compile(learning_rate=1e-4)\n",
        "history = model.fit(train_dataset, validation_data=val_dataset, epochs=100)\n",
        "model.save('/content/drive/MyDrive/lol_dataset/sphgetti_net.h5')"
      ],
      "metadata": {
        "colab": {
          "base_uri": "https://localhost:8080/",
          "height": 1000
        },
        "id": "mDeURY4ltkft",
        "outputId": "43044109-23e4-41d8-eeac-02e306b294c5"
      },
      "execution_count": 14,
      "outputs": [
        {
          "output_type": "stream",
          "name": "stdout",
          "text": [
            "Epoch 1/100\n",
            "21/21 [==============================] - 22s 813ms/step - total_loss: 4.1571 - SmoothnessLoss: 1.1280 - spatial_constancy_loss: 1.3558e-05 - ConstancyLoss: 0.1024 - ExposureLoss: 2.9267 - val_total_loss: 4.1833 - val_SmoothnessLoss: 1.0368 - val_spatial_constancy_loss: 8.6749e-06 - val_ConstancyLoss: 0.1050 - val_ExposureLoss: 3.0415\n",
            "Epoch 2/100\n",
            "21/21 [==============================] - 16s 734ms/step - total_loss: 3.5808 - SmoothnessLoss: 0.5570 - spatial_constancy_loss: 1.8078e-05 - ConstancyLoss: 0.1018 - ExposureLoss: 2.9219 - val_total_loss: 3.7405 - val_SmoothnessLoss: 0.5974 - val_spatial_constancy_loss: 1.1162e-05 - val_ConstancyLoss: 0.1059 - val_ExposureLoss: 3.0373\n",
            "Epoch 3/100\n",
            "21/21 [==============================] - 15s 712ms/step - total_loss: 3.3464 - SmoothnessLoss: 0.3272 - spatial_constancy_loss: 2.1970e-05 - ConstancyLoss: 0.1024 - ExposureLoss: 2.9167 - val_total_loss: 3.5288 - val_SmoothnessLoss: 0.3900 - val_spatial_constancy_loss: 1.5377e-05 - val_ConstancyLoss: 0.1069 - val_ExposureLoss: 3.0320\n",
            "Epoch 4/100\n",
            "21/21 [==============================] - 15s 727ms/step - total_loss: 3.2318 - SmoothnessLoss: 0.2186 - spatial_constancy_loss: 3.1032e-05 - ConstancyLoss: 0.1032 - ExposureLoss: 2.9100 - val_total_loss: 3.4122 - val_SmoothnessLoss: 0.2785 - val_spatial_constancy_loss: 2.2821e-05 - val_ConstancyLoss: 0.1078 - val_ExposureLoss: 3.0259\n",
            "Epoch 5/100\n",
            "21/21 [==============================] - 16s 746ms/step - total_loss: 3.1613 - SmoothnessLoss: 0.1544 - spatial_constancy_loss: 4.3501e-05 - ConstancyLoss: 0.1039 - ExposureLoss: 2.9029 - val_total_loss: 3.3359 - val_SmoothnessLoss: 0.2076 - val_spatial_constancy_loss: 3.2317e-05 - val_ConstancyLoss: 0.1090 - val_ExposureLoss: 3.0192\n",
            "Epoch 6/100\n",
            "21/21 [==============================] - 16s 761ms/step - total_loss: 3.1125 - SmoothnessLoss: 0.1128 - spatial_constancy_loss: 5.9612e-05 - ConstancyLoss: 0.1048 - ExposureLoss: 2.8948 - val_total_loss: 3.2845 - val_SmoothnessLoss: 0.1627 - val_spatial_constancy_loss: 4.6542e-05 - val_ConstancyLoss: 0.1108 - val_ExposureLoss: 3.0110\n",
            "Epoch 7/100\n",
            "21/21 [==============================] - 16s 751ms/step - total_loss: 3.0763 - SmoothnessLoss: 0.0859 - spatial_constancy_loss: 8.5171e-05 - ConstancyLoss: 0.1062 - ExposureLoss: 2.8842 - val_total_loss: 3.2460 - val_SmoothnessLoss: 0.1326 - val_spatial_constancy_loss: 7.0509e-05 - val_ConstancyLoss: 0.1134 - val_ExposureLoss: 2.9999\n",
            "Epoch 8/100\n",
            "21/21 [==============================] - 16s 755ms/step - total_loss: 3.0467 - SmoothnessLoss: 0.0683 - spatial_constancy_loss: 1.2667e-04 - ConstancyLoss: 0.1080 - ExposureLoss: 2.8703 - val_total_loss: 3.2142 - val_SmoothnessLoss: 0.1117 - val_spatial_constancy_loss: 1.0850e-04 - val_ConstancyLoss: 0.1165 - val_ExposureLoss: 2.9859\n",
            "Epoch 9/100\n",
            "21/21 [==============================] - 16s 736ms/step - total_loss: 3.0212 - SmoothnessLoss: 0.0570 - spatial_constancy_loss: 1.8754e-04 - ConstancyLoss: 0.1102 - ExposureLoss: 2.8539 - val_total_loss: 3.1851 - val_SmoothnessLoss: 0.0948 - val_spatial_constancy_loss: 1.6193e-04 - val_ConstancyLoss: 0.1199 - val_ExposureLoss: 2.9702\n",
            "Epoch 10/100\n",
            "21/21 [==============================] - 16s 761ms/step - total_loss: 2.9977 - SmoothnessLoss: 0.0487 - spatial_constancy_loss: 2.6850e-04 - ConstancyLoss: 0.1128 - ExposureLoss: 2.8359 - val_total_loss: 3.1548 - val_SmoothnessLoss: 0.0777 - val_spatial_constancy_loss: 2.3206e-04 - val_ConstancyLoss: 0.1238 - val_ExposureLoss: 2.9530\n",
            "Epoch 11/100\n",
            "21/21 [==============================] - 16s 749ms/step - total_loss: 2.9731 - SmoothnessLoss: 0.0424 - spatial_constancy_loss: 3.8484e-04 - ConstancyLoss: 0.1160 - ExposureLoss: 2.8143 - val_total_loss: 3.1254 - val_SmoothnessLoss: 0.0664 - val_spatial_constancy_loss: 3.4619e-04 - val_ConstancyLoss: 0.1286 - val_ExposureLoss: 2.9301\n",
            "Epoch 12/100\n",
            "21/21 [==============================] - 16s 743ms/step - total_loss: 2.9472 - SmoothnessLoss: 0.0407 - spatial_constancy_loss: 5.8058e-04 - ConstancyLoss: 0.1206 - ExposureLoss: 2.7853 - val_total_loss: 3.0972 - val_SmoothnessLoss: 0.0625 - val_spatial_constancy_loss: 5.4095e-04 - val_ConstancyLoss: 0.1350 - val_ExposureLoss: 2.8991\n",
            "Epoch 13/100\n",
            "21/21 [==============================] - 16s 761ms/step - total_loss: 2.9169 - SmoothnessLoss: 0.0438 - spatial_constancy_loss: 9.2649e-04 - ConstancyLoss: 0.1271 - ExposureLoss: 2.7451 - val_total_loss: 3.0656 - val_SmoothnessLoss: 0.0691 - val_spatial_constancy_loss: 9.3496e-04 - val_ConstancyLoss: 0.1448 - val_ExposureLoss: 2.8507\n",
            "Epoch 14/100\n",
            "21/21 [==============================] - 16s 780ms/step - total_loss: 2.8707 - SmoothnessLoss: 0.0531 - spatial_constancy_loss: 0.0017 - ConstancyLoss: 0.1380 - ExposureLoss: 2.6779 - val_total_loss: 3.0099 - val_SmoothnessLoss: 0.0799 - val_spatial_constancy_loss: 0.0019 - val_ConstancyLoss: 0.1616 - val_ExposureLoss: 2.7665\n",
            "Epoch 15/100\n",
            "21/21 [==============================] - 16s 737ms/step - total_loss: 2.7655 - SmoothnessLoss: 0.0725 - spatial_constancy_loss: 0.0045 - ConstancyLoss: 0.1620 - ExposureLoss: 2.5266 - val_total_loss: 2.8677 - val_SmoothnessLoss: 0.1128 - val_spatial_constancy_loss: 0.0063 - val_ConstancyLoss: 0.2090 - val_ExposureLoss: 2.5396\n",
            "Epoch 16/100\n",
            "21/21 [==============================] - 16s 738ms/step - total_loss: 2.4718 - SmoothnessLoss: 0.1191 - spatial_constancy_loss: 0.0216 - ConstancyLoss: 0.2343 - ExposureLoss: 2.0969 - val_total_loss: 2.4436 - val_SmoothnessLoss: 0.1712 - val_spatial_constancy_loss: 0.0380 - val_ConstancyLoss: 0.3542 - val_ExposureLoss: 1.8802\n",
            "Epoch 17/100\n",
            "21/21 [==============================] - 16s 736ms/step - total_loss: 1.9770 - SmoothnessLoss: 0.1879 - spatial_constancy_loss: 0.1169 - ConstancyLoss: 0.4155 - ExposureLoss: 1.2568 - val_total_loss: 1.9969 - val_SmoothnessLoss: 0.2112 - val_spatial_constancy_loss: 0.1527 - val_ConstancyLoss: 0.5763 - val_ExposureLoss: 1.0567\n",
            "Epoch 18/100\n",
            "21/21 [==============================] - 16s 745ms/step - total_loss: 1.8153 - SmoothnessLoss: 0.1947 - spatial_constancy_loss: 0.2109 - ConstancyLoss: 0.5451 - ExposureLoss: 0.8645 - val_total_loss: 1.9541 - val_SmoothnessLoss: 0.1765 - val_spatial_constancy_loss: 0.1634 - val_ConstancyLoss: 0.5999 - val_ExposureLoss: 1.0143\n",
            "Epoch 19/100\n",
            "21/21 [==============================] - 16s 775ms/step - total_loss: 1.7808 - SmoothnessLoss: 0.1557 - spatial_constancy_loss: 0.2018 - ConstancyLoss: 0.5408 - ExposureLoss: 0.8825 - val_total_loss: 1.9234 - val_SmoothnessLoss: 0.1440 - val_spatial_constancy_loss: 0.1614 - val_ConstancyLoss: 0.5965 - val_ExposureLoss: 1.0215\n",
            "Epoch 20/100\n",
            "21/21 [==============================] - 16s 739ms/step - total_loss: 1.7691 - SmoothnessLoss: 0.1432 - spatial_constancy_loss: 0.2051 - ConstancyLoss: 0.5417 - ExposureLoss: 0.8791 - val_total_loss: 1.9154 - val_SmoothnessLoss: 0.1405 - val_spatial_constancy_loss: 0.1693 - val_ConstancyLoss: 0.6141 - val_ExposureLoss: 0.9915\n",
            "Epoch 21/100\n",
            "21/21 [==============================] - 16s 774ms/step - total_loss: 1.7613 - SmoothnessLoss: 0.1328 - spatial_constancy_loss: 0.2065 - ConstancyLoss: 0.5436 - ExposureLoss: 0.8784 - val_total_loss: 1.9046 - val_SmoothnessLoss: 0.1418 - val_spatial_constancy_loss: 0.1802 - val_ConstancyLoss: 0.6290 - val_ExposureLoss: 0.9536\n",
            "Epoch 22/100\n",
            "21/21 [==============================] - 16s 742ms/step - total_loss: 1.7429 - SmoothnessLoss: 0.1172 - spatial_constancy_loss: 0.2108 - ConstancyLoss: 0.5498 - ExposureLoss: 0.8652 - val_total_loss: 1.8849 - val_SmoothnessLoss: 0.1207 - val_spatial_constancy_loss: 0.1804 - val_ConstancyLoss: 0.6311 - val_ExposureLoss: 0.9527\n",
            "Epoch 23/100\n",
            "21/21 [==============================] - 16s 747ms/step - total_loss: 1.7346 - SmoothnessLoss: 0.1096 - spatial_constancy_loss: 0.2147 - ConstancyLoss: 0.5538 - ExposureLoss: 0.8565 - val_total_loss: 1.8733 - val_SmoothnessLoss: 0.1115 - val_spatial_constancy_loss: 0.1825 - val_ConstancyLoss: 0.6335 - val_ExposureLoss: 0.9458\n",
            "Epoch 24/100\n",
            "21/21 [==============================] - 16s 770ms/step - total_loss: 1.7248 - SmoothnessLoss: 0.1030 - spatial_constancy_loss: 0.2155 - ConstancyLoss: 0.5515 - ExposureLoss: 0.8547 - val_total_loss: 1.8670 - val_SmoothnessLoss: 0.1057 - val_spatial_constancy_loss: 0.1835 - val_ConstancyLoss: 0.6355 - val_ExposureLoss: 0.9423\n",
            "Epoch 25/100\n",
            "21/21 [==============================] - 16s 738ms/step - total_loss: 1.7157 - SmoothnessLoss: 0.0964 - spatial_constancy_loss: 0.2169 - ConstancyLoss: 0.5517 - ExposureLoss: 0.8507 - val_total_loss: 1.8643 - val_SmoothnessLoss: 0.1012 - val_spatial_constancy_loss: 0.1850 - val_ConstancyLoss: 0.6410 - val_ExposureLoss: 0.9370\n",
            "Epoch 26/100\n",
            "21/21 [==============================] - 16s 777ms/step - total_loss: 1.7080 - SmoothnessLoss: 0.0911 - spatial_constancy_loss: 0.2191 - ConstancyLoss: 0.5523 - ExposureLoss: 0.8455 - val_total_loss: 1.8586 - val_SmoothnessLoss: 0.0965 - val_spatial_constancy_loss: 0.1869 - val_ConstancyLoss: 0.6442 - val_ExposureLoss: 0.9310\n",
            "Epoch 27/100\n",
            "21/21 [==============================] - 16s 767ms/step - total_loss: 1.7023 - SmoothnessLoss: 0.0866 - spatial_constancy_loss: 0.2216 - ConstancyLoss: 0.5545 - ExposureLoss: 0.8396 - val_total_loss: 1.8542 - val_SmoothnessLoss: 0.0930 - val_spatial_constancy_loss: 0.1872 - val_ConstancyLoss: 0.6441 - val_ExposureLoss: 0.9298\n",
            "Epoch 28/100\n",
            "21/21 [==============================] - 16s 754ms/step - total_loss: 1.6980 - SmoothnessLoss: 0.0827 - spatial_constancy_loss: 0.2221 - ConstancyLoss: 0.5545 - ExposureLoss: 0.8386 - val_total_loss: 1.8502 - val_SmoothnessLoss: 0.0898 - val_spatial_constancy_loss: 0.1885 - val_ConstancyLoss: 0.6463 - val_ExposureLoss: 0.9256\n",
            "Epoch 29/100\n",
            "21/21 [==============================] - 16s 734ms/step - total_loss: 1.6942 - SmoothnessLoss: 0.0779 - spatial_constancy_loss: 0.2226 - ConstancyLoss: 0.5566 - ExposureLoss: 0.8371 - val_total_loss: 1.8462 - val_SmoothnessLoss: 0.0860 - val_spatial_constancy_loss: 0.1888 - val_ConstancyLoss: 0.6468 - val_ExposureLoss: 0.9246\n",
            "Epoch 30/100\n",
            "21/21 [==============================] - 16s 769ms/step - total_loss: 1.6905 - SmoothnessLoss: 0.0735 - spatial_constancy_loss: 0.2240 - ConstancyLoss: 0.5586 - ExposureLoss: 0.8343 - val_total_loss: 1.8416 - val_SmoothnessLoss: 0.0813 - val_spatial_constancy_loss: 0.1900 - val_ConstancyLoss: 0.6494 - val_ExposureLoss: 0.9209\n",
            "Epoch 31/100\n",
            "21/21 [==============================] - 16s 743ms/step - total_loss: 1.6852 - SmoothnessLoss: 0.0687 - spatial_constancy_loss: 0.2247 - ConstancyLoss: 0.5592 - ExposureLoss: 0.8326 - val_total_loss: 1.8367 - val_SmoothnessLoss: 0.0769 - val_spatial_constancy_loss: 0.1917 - val_ConstancyLoss: 0.6529 - val_ExposureLoss: 0.9153\n",
            "Epoch 32/100\n",
            "21/21 [==============================] - 16s 742ms/step - total_loss: 1.6796 - SmoothnessLoss: 0.0642 - spatial_constancy_loss: 0.2264 - ConstancyLoss: 0.5601 - ExposureLoss: 0.8289 - val_total_loss: 1.8305 - val_SmoothnessLoss: 0.0710 - val_spatial_constancy_loss: 0.1926 - val_ConstancyLoss: 0.6543 - val_ExposureLoss: 0.9126\n",
            "Epoch 33/100\n",
            "21/21 [==============================] - 16s 763ms/step - total_loss: 1.6757 - SmoothnessLoss: 0.0606 - spatial_constancy_loss: 0.2276 - ConstancyLoss: 0.5612 - ExposureLoss: 0.8264 - val_total_loss: 1.8264 - val_SmoothnessLoss: 0.0674 - val_spatial_constancy_loss: 0.1936 - val_ConstancyLoss: 0.6560 - val_ExposureLoss: 0.9094\n",
            "Epoch 34/100\n",
            "21/21 [==============================] - 16s 753ms/step - total_loss: 1.6706 - SmoothnessLoss: 0.0563 - spatial_constancy_loss: 0.2291 - ConstancyLoss: 0.5621 - ExposureLoss: 0.8231 - val_total_loss: 1.8216 - val_SmoothnessLoss: 0.0613 - val_spatial_constancy_loss: 0.1935 - val_ConstancyLoss: 0.6572 - val_ExposureLoss: 0.9096\n",
            "Epoch 35/100\n",
            "21/21 [==============================] - 16s 755ms/step - total_loss: 1.6666 - SmoothnessLoss: 0.0530 - spatial_constancy_loss: 0.2295 - ConstancyLoss: 0.5618 - ExposureLoss: 0.8224 - val_total_loss: 1.8187 - val_SmoothnessLoss: 0.0583 - val_spatial_constancy_loss: 0.1948 - val_ConstancyLoss: 0.6600 - val_ExposureLoss: 0.9055\n",
            "Epoch 36/100\n",
            "21/21 [==============================] - 16s 735ms/step - total_loss: 1.6626 - SmoothnessLoss: 0.0497 - spatial_constancy_loss: 0.2309 - ConstancyLoss: 0.5624 - ExposureLoss: 0.8196 - val_total_loss: 1.8143 - val_SmoothnessLoss: 0.0538 - val_spatial_constancy_loss: 0.1948 - val_ConstancyLoss: 0.6602 - val_ExposureLoss: 0.9055\n",
            "Epoch 37/100\n",
            "21/21 [==============================] - 16s 767ms/step - total_loss: 1.6595 - SmoothnessLoss: 0.0469 - spatial_constancy_loss: 0.2317 - ConstancyLoss: 0.5631 - ExposureLoss: 0.8179 - val_total_loss: 1.8118 - val_SmoothnessLoss: 0.0514 - val_spatial_constancy_loss: 0.1959 - val_ConstancyLoss: 0.6624 - val_ExposureLoss: 0.9020\n",
            "Epoch 38/100\n",
            "21/21 [==============================] - 17s 782ms/step - total_loss: 1.6558 - SmoothnessLoss: 0.0438 - spatial_constancy_loss: 0.2324 - ConstancyLoss: 0.5632 - ExposureLoss: 0.8164 - val_total_loss: 1.8079 - val_SmoothnessLoss: 0.0478 - val_spatial_constancy_loss: 0.1968 - val_ConstancyLoss: 0.6641 - val_ExposureLoss: 0.8992\n",
            "Epoch 39/100\n",
            "21/21 [==============================] - 16s 764ms/step - total_loss: 1.6525 - SmoothnessLoss: 0.0413 - spatial_constancy_loss: 0.2336 - ConstancyLoss: 0.5639 - ExposureLoss: 0.8137 - val_total_loss: 1.8060 - val_SmoothnessLoss: 0.0452 - val_spatial_constancy_loss: 0.1960 - val_ConstancyLoss: 0.6631 - val_ExposureLoss: 0.9017\n",
            "Epoch 40/100\n",
            "21/21 [==============================] - 16s 765ms/step - total_loss: 1.6503 - SmoothnessLoss: 0.0391 - spatial_constancy_loss: 0.2335 - ConstancyLoss: 0.5632 - ExposureLoss: 0.8145 - val_total_loss: 1.8028 - val_SmoothnessLoss: 0.0430 - val_spatial_constancy_loss: 0.1975 - val_ConstancyLoss: 0.6653 - val_ExposureLoss: 0.8970\n",
            "Epoch 41/100\n",
            "21/21 [==============================] - 17s 781ms/step - total_loss: 1.6474 - SmoothnessLoss: 0.0367 - spatial_constancy_loss: 0.2350 - ConstancyLoss: 0.5645 - ExposureLoss: 0.8111 - val_total_loss: 1.8006 - val_SmoothnessLoss: 0.0398 - val_spatial_constancy_loss: 0.1969 - val_ConstancyLoss: 0.6651 - val_ExposureLoss: 0.8988\n",
            "Epoch 42/100\n",
            "21/21 [==============================] - 16s 739ms/step - total_loss: 1.6450 - SmoothnessLoss: 0.0344 - spatial_constancy_loss: 0.2346 - ConstancyLoss: 0.5640 - ExposureLoss: 0.8121 - val_total_loss: 1.7979 - val_SmoothnessLoss: 0.0378 - val_spatial_constancy_loss: 0.1984 - val_ConstancyLoss: 0.6675 - val_ExposureLoss: 0.8942\n",
            "Epoch 43/100\n",
            "21/21 [==============================] - 16s 765ms/step - total_loss: 1.6423 - SmoothnessLoss: 0.0323 - spatial_constancy_loss: 0.2363 - ConstancyLoss: 0.5649 - ExposureLoss: 0.8088 - val_total_loss: 1.7960 - val_SmoothnessLoss: 0.0354 - val_spatial_constancy_loss: 0.1976 - val_ConstancyLoss: 0.6663 - val_ExposureLoss: 0.8966\n",
            "Epoch 44/100\n",
            "21/21 [==============================] - 16s 774ms/step - total_loss: 1.6407 - SmoothnessLoss: 0.0305 - spatial_constancy_loss: 0.2356 - ConstancyLoss: 0.5644 - ExposureLoss: 0.8101 - val_total_loss: 1.7932 - val_SmoothnessLoss: 0.0337 - val_spatial_constancy_loss: 0.1994 - val_ConstancyLoss: 0.6688 - val_ExposureLoss: 0.8913\n",
            "Epoch 45/100\n",
            "21/21 [==============================] - 16s 745ms/step - total_loss: 1.6379 - SmoothnessLoss: 0.0284 - spatial_constancy_loss: 0.2383 - ConstancyLoss: 0.5663 - ExposureLoss: 0.8049 - val_total_loss: 1.7906 - val_SmoothnessLoss: 0.0313 - val_spatial_constancy_loss: 0.1992 - val_ConstancyLoss: 0.6684 - val_ExposureLoss: 0.8917\n",
            "Epoch 46/100\n",
            "21/21 [==============================] - 16s 741ms/step - total_loss: 1.6363 - SmoothnessLoss: 0.0268 - spatial_constancy_loss: 0.2367 - ConstancyLoss: 0.5650 - ExposureLoss: 0.8078 - val_total_loss: 1.7893 - val_SmoothnessLoss: 0.0302 - val_spatial_constancy_loss: 0.2001 - val_ConstancyLoss: 0.6699 - val_ExposureLoss: 0.8892\n",
            "Epoch 47/100\n",
            "21/21 [==============================] - 16s 740ms/step - total_loss: 1.6340 - SmoothnessLoss: 0.0251 - spatial_constancy_loss: 0.2386 - ConstancyLoss: 0.5661 - ExposureLoss: 0.8042 - val_total_loss: 1.7873 - val_SmoothnessLoss: 0.0276 - val_spatial_constancy_loss: 0.1995 - val_ConstancyLoss: 0.6694 - val_ExposureLoss: 0.8908\n",
            "Epoch 48/100\n",
            "21/21 [==============================] - 16s 777ms/step - total_loss: 1.6324 - SmoothnessLoss: 0.0235 - spatial_constancy_loss: 0.2377 - ConstancyLoss: 0.5655 - ExposureLoss: 0.8058 - val_total_loss: 1.7856 - val_SmoothnessLoss: 0.0263 - val_spatial_constancy_loss: 0.2006 - val_ConstancyLoss: 0.6711 - val_ExposureLoss: 0.8876\n",
            "Epoch 49/100\n",
            "21/21 [==============================] - 16s 772ms/step - total_loss: 1.6303 - SmoothnessLoss: 0.0219 - spatial_constancy_loss: 0.2387 - ConstancyLoss: 0.5661 - ExposureLoss: 0.8036 - val_total_loss: 1.7834 - val_SmoothnessLoss: 0.0245 - val_spatial_constancy_loss: 0.2006 - val_ConstancyLoss: 0.6708 - val_ExposureLoss: 0.8875\n",
            "Epoch 50/100\n",
            "21/21 [==============================] - 16s 743ms/step - total_loss: 1.6294 - SmoothnessLoss: 0.0209 - spatial_constancy_loss: 0.2391 - ConstancyLoss: 0.5665 - ExposureLoss: 0.8029 - val_total_loss: 1.7820 - val_SmoothnessLoss: 0.0235 - val_spatial_constancy_loss: 0.2016 - val_ConstancyLoss: 0.6723 - val_ExposureLoss: 0.8847\n",
            "Epoch 51/100\n",
            "21/21 [==============================] - 16s 744ms/step - total_loss: 1.6274 - SmoothnessLoss: 0.0194 - spatial_constancy_loss: 0.2402 - ConstancyLoss: 0.5670 - ExposureLoss: 0.8007 - val_total_loss: 1.7810 - val_SmoothnessLoss: 0.0217 - val_spatial_constancy_loss: 0.2007 - val_ConstancyLoss: 0.6716 - val_ExposureLoss: 0.8870\n",
            "Epoch 52/100\n",
            "21/21 [==============================] - 16s 763ms/step - total_loss: 1.6264 - SmoothnessLoss: 0.0184 - spatial_constancy_loss: 0.2397 - ConstancyLoss: 0.5665 - ExposureLoss: 0.8018 - val_total_loss: 1.7803 - val_SmoothnessLoss: 0.0209 - val_spatial_constancy_loss: 0.2014 - val_ConstancyLoss: 0.6730 - val_ExposureLoss: 0.8850\n",
            "Epoch 53/100\n",
            "21/21 [==============================] - 16s 742ms/step - total_loss: 1.6250 - SmoothnessLoss: 0.0173 - spatial_constancy_loss: 0.2406 - ConstancyLoss: 0.5669 - ExposureLoss: 0.8001 - val_total_loss: 1.7790 - val_SmoothnessLoss: 0.0198 - val_spatial_constancy_loss: 0.2014 - val_ConstancyLoss: 0.6729 - val_ExposureLoss: 0.8850\n",
            "Epoch 54/100\n",
            "21/21 [==============================] - 16s 743ms/step - total_loss: 1.6240 - SmoothnessLoss: 0.0163 - spatial_constancy_loss: 0.2405 - ConstancyLoss: 0.5670 - ExposureLoss: 0.8002 - val_total_loss: 1.7791 - val_SmoothnessLoss: 0.0188 - val_spatial_constancy_loss: 0.2007 - val_ConstancyLoss: 0.6728 - val_ExposureLoss: 0.8867\n",
            "Epoch 55/100\n",
            "21/21 [==============================] - 16s 766ms/step - total_loss: 1.6228 - SmoothnessLoss: 0.0155 - spatial_constancy_loss: 0.2405 - ConstancyLoss: 0.5665 - ExposureLoss: 0.8003 - val_total_loss: 1.7767 - val_SmoothnessLoss: 0.0181 - val_spatial_constancy_loss: 0.2026 - val_ConstancyLoss: 0.6746 - val_ExposureLoss: 0.8815\n",
            "Epoch 56/100\n",
            "21/21 [==============================] - 16s 748ms/step - total_loss: 1.6216 - SmoothnessLoss: 0.0147 - spatial_constancy_loss: 0.2413 - ConstancyLoss: 0.5672 - ExposureLoss: 0.7984 - val_total_loss: 1.7745 - val_SmoothnessLoss: 0.0169 - val_spatial_constancy_loss: 0.2034 - val_ConstancyLoss: 0.6751 - val_ExposureLoss: 0.8790\n",
            "Epoch 57/100\n",
            "21/21 [==============================] - 16s 759ms/step - total_loss: 1.6211 - SmoothnessLoss: 0.0139 - spatial_constancy_loss: 0.2420 - ConstancyLoss: 0.5680 - ExposureLoss: 0.7973 - val_total_loss: 1.7751 - val_SmoothnessLoss: 0.0159 - val_spatial_constancy_loss: 0.2020 - val_ConstancyLoss: 0.6743 - val_ExposureLoss: 0.8830\n",
            "Epoch 58/100\n",
            "21/21 [==============================] - 16s 777ms/step - total_loss: 1.6201 - SmoothnessLoss: 0.0132 - spatial_constancy_loss: 0.2410 - ConstancyLoss: 0.5669 - ExposureLoss: 0.7990 - val_total_loss: 1.7740 - val_SmoothnessLoss: 0.0159 - val_spatial_constancy_loss: 0.2034 - val_ConstancyLoss: 0.6757 - val_ExposureLoss: 0.8790\n",
            "Epoch 59/100\n",
            "21/21 [==============================] - 16s 735ms/step - total_loss: 1.6192 - SmoothnessLoss: 0.0126 - spatial_constancy_loss: 0.2430 - ConstancyLoss: 0.5683 - ExposureLoss: 0.7953 - val_total_loss: 1.7743 - val_SmoothnessLoss: 0.0144 - val_spatial_constancy_loss: 0.2012 - val_ConstancyLoss: 0.6736 - val_ExposureLoss: 0.8851\n",
            "Epoch 60/100\n",
            "21/21 [==============================] - 16s 770ms/step - total_loss: 1.6191 - SmoothnessLoss: 0.0122 - spatial_constancy_loss: 0.2411 - ConstancyLoss: 0.5666 - ExposureLoss: 0.7991 - val_total_loss: 1.7728 - val_SmoothnessLoss: 0.0149 - val_spatial_constancy_loss: 0.2038 - val_ConstancyLoss: 0.6764 - val_ExposureLoss: 0.8776\n",
            "Epoch 61/100\n",
            "21/21 [==============================] - 16s 750ms/step - total_loss: 1.6177 - SmoothnessLoss: 0.0114 - spatial_constancy_loss: 0.2425 - ConstancyLoss: 0.5678 - ExposureLoss: 0.7961 - val_total_loss: 1.7713 - val_SmoothnessLoss: 0.0131 - val_spatial_constancy_loss: 0.2032 - val_ConstancyLoss: 0.6757 - val_ExposureLoss: 0.8793\n",
            "Epoch 62/100\n",
            "21/21 [==============================] - 16s 757ms/step - total_loss: 1.6175 - SmoothnessLoss: 0.0111 - spatial_constancy_loss: 0.2425 - ConstancyLoss: 0.5676 - ExposureLoss: 0.7962 - val_total_loss: 1.7712 - val_SmoothnessLoss: 0.0136 - val_spatial_constancy_loss: 0.2040 - val_ConstancyLoss: 0.6766 - val_ExposureLoss: 0.8770\n",
            "Epoch 63/100\n",
            "21/21 [==============================] - 16s 741ms/step - total_loss: 1.6167 - SmoothnessLoss: 0.0106 - spatial_constancy_loss: 0.2434 - ConstancyLoss: 0.5684 - ExposureLoss: 0.7943 - val_total_loss: 1.7713 - val_SmoothnessLoss: 0.0126 - val_spatial_constancy_loss: 0.2025 - val_ConstancyLoss: 0.6750 - val_ExposureLoss: 0.8813\n",
            "Epoch 64/100\n",
            "21/21 [==============================] - 16s 737ms/step - total_loss: 1.6167 - SmoothnessLoss: 0.0104 - spatial_constancy_loss: 0.2421 - ConstancyLoss: 0.5671 - ExposureLoss: 0.7971 - val_total_loss: 1.7716 - val_SmoothnessLoss: 0.0125 - val_spatial_constancy_loss: 0.2028 - val_ConstancyLoss: 0.6760 - val_ExposureLoss: 0.8802\n",
            "Epoch 65/100\n",
            "21/21 [==============================] - 16s 744ms/step - total_loss: 1.6159 - SmoothnessLoss: 0.0099 - spatial_constancy_loss: 0.2424 - ConstancyLoss: 0.5674 - ExposureLoss: 0.7963 - val_total_loss: 1.7698 - val_SmoothnessLoss: 0.0121 - val_spatial_constancy_loss: 0.2043 - val_ConstancyLoss: 0.6774 - val_ExposureLoss: 0.8759\n",
            "Epoch 66/100\n",
            "21/21 [==============================] - 16s 772ms/step - total_loss: 1.6151 - SmoothnessLoss: 0.0094 - spatial_constancy_loss: 0.2433 - ConstancyLoss: 0.5681 - ExposureLoss: 0.7944 - val_total_loss: 1.7690 - val_SmoothnessLoss: 0.0115 - val_spatial_constancy_loss: 0.2044 - val_ConstancyLoss: 0.6775 - val_ExposureLoss: 0.8756\n",
            "Epoch 67/100\n",
            "21/21 [==============================] - 16s 735ms/step - total_loss: 1.6150 - SmoothnessLoss: 0.0093 - spatial_constancy_loss: 0.2440 - ConstancyLoss: 0.5687 - ExposureLoss: 0.7931 - val_total_loss: 1.7697 - val_SmoothnessLoss: 0.0114 - val_spatial_constancy_loss: 0.2035 - val_ConstancyLoss: 0.6767 - val_ExposureLoss: 0.8782\n",
            "Epoch 68/100\n",
            "21/21 [==============================] - 16s 769ms/step - total_loss: 1.6146 - SmoothnessLoss: 0.0089 - spatial_constancy_loss: 0.2426 - ConstancyLoss: 0.5673 - ExposureLoss: 0.7958 - val_total_loss: 1.7699 - val_SmoothnessLoss: 0.0111 - val_spatial_constancy_loss: 0.2034 - val_ConstancyLoss: 0.6771 - val_ExposureLoss: 0.8783\n",
            "Epoch 69/100\n",
            "21/21 [==============================] - 17s 782ms/step - total_loss: 1.6142 - SmoothnessLoss: 0.0088 - spatial_constancy_loss: 0.2431 - ConstancyLoss: 0.5676 - ExposureLoss: 0.7948 - val_total_loss: 1.7691 - val_SmoothnessLoss: 0.0111 - val_spatial_constancy_loss: 0.2042 - val_ConstancyLoss: 0.6777 - val_ExposureLoss: 0.8762\n",
            "Epoch 70/100\n",
            "21/21 [==============================] - 16s 766ms/step - total_loss: 1.6149 - SmoothnessLoss: 0.0100 - spatial_constancy_loss: 0.2437 - ConstancyLoss: 0.5676 - ExposureLoss: 0.7936 - val_total_loss: 1.7705 - val_SmoothnessLoss: 0.0128 - val_spatial_constancy_loss: 0.2053 - val_ConstancyLoss: 0.6795 - val_ExposureLoss: 0.8729\n",
            "Epoch 71/100\n",
            "21/21 [==============================] - 16s 767ms/step - total_loss: 1.6141 - SmoothnessLoss: 0.0093 - spatial_constancy_loss: 0.2440 - ConstancyLoss: 0.5680 - ExposureLoss: 0.7929 - val_total_loss: 1.7684 - val_SmoothnessLoss: 0.0112 - val_spatial_constancy_loss: 0.2050 - val_ConstancyLoss: 0.6784 - val_ExposureLoss: 0.8737\n",
            "Epoch 72/100\n",
            "21/21 [==============================] - 16s 774ms/step - total_loss: 1.6142 - SmoothnessLoss: 0.0088 - spatial_constancy_loss: 0.2437 - ConstancyLoss: 0.5679 - ExposureLoss: 0.7938 - val_total_loss: 1.7704 - val_SmoothnessLoss: 0.0107 - val_spatial_constancy_loss: 0.2026 - val_ConstancyLoss: 0.6767 - val_ExposureLoss: 0.8804\n",
            "Epoch 73/100\n",
            "21/21 [==============================] - 16s 760ms/step - total_loss: 1.6135 - SmoothnessLoss: 0.0084 - spatial_constancy_loss: 0.2425 - ConstancyLoss: 0.5667 - ExposureLoss: 0.7959 - val_total_loss: 1.7686 - val_SmoothnessLoss: 0.0108 - val_spatial_constancy_loss: 0.2053 - val_ConstancyLoss: 0.6798 - val_ExposureLoss: 0.8726\n",
            "Epoch 74/100\n",
            "21/21 [==============================] - 16s 768ms/step - total_loss: 1.6131 - SmoothnessLoss: 0.0082 - spatial_constancy_loss: 0.2447 - ConstancyLoss: 0.5687 - ExposureLoss: 0.7915 - val_total_loss: 1.7696 - val_SmoothnessLoss: 0.0106 - val_spatial_constancy_loss: 0.2036 - val_ConstancyLoss: 0.6778 - val_ExposureLoss: 0.8775\n",
            "Epoch 75/100\n",
            "21/21 [==============================] - 16s 767ms/step - total_loss: 1.6127 - SmoothnessLoss: 0.0076 - spatial_constancy_loss: 0.2439 - ConstancyLoss: 0.5676 - ExposureLoss: 0.7936 - val_total_loss: 1.7688 - val_SmoothnessLoss: 0.0091 - val_spatial_constancy_loss: 0.2029 - val_ConstancyLoss: 0.6773 - val_ExposureLoss: 0.8795\n",
            "Epoch 76/100\n",
            "21/21 [==============================] - 16s 744ms/step - total_loss: 1.6127 - SmoothnessLoss: 0.0077 - spatial_constancy_loss: 0.2428 - ConstancyLoss: 0.5668 - ExposureLoss: 0.7954 - val_total_loss: 1.7680 - val_SmoothnessLoss: 0.0100 - val_spatial_constancy_loss: 0.2050 - val_ConstancyLoss: 0.6796 - val_ExposureLoss: 0.8734\n",
            "Epoch 77/100\n",
            "21/21 [==============================] - 16s 772ms/step - total_loss: 1.6123 - SmoothnessLoss: 0.0076 - spatial_constancy_loss: 0.2439 - ConstancyLoss: 0.5679 - ExposureLoss: 0.7930 - val_total_loss: 1.7675 - val_SmoothnessLoss: 0.0099 - val_spatial_constancy_loss: 0.2054 - val_ConstancyLoss: 0.6800 - val_ExposureLoss: 0.8723\n",
            "Epoch 78/100\n",
            "21/21 [==============================] - 16s 740ms/step - total_loss: 1.6119 - SmoothnessLoss: 0.0072 - spatial_constancy_loss: 0.2444 - ConstancyLoss: 0.5681 - ExposureLoss: 0.7922 - val_total_loss: 1.7678 - val_SmoothnessLoss: 0.0092 - val_spatial_constancy_loss: 0.2048 - val_ConstancyLoss: 0.6799 - val_ExposureLoss: 0.8740\n",
            "Epoch 79/100\n",
            "21/21 [==============================] - 16s 769ms/step - total_loss: 1.6116 - SmoothnessLoss: 0.0070 - spatial_constancy_loss: 0.2439 - ConstancyLoss: 0.5676 - ExposureLoss: 0.7931 - val_total_loss: 1.7674 - val_SmoothnessLoss: 0.0096 - val_spatial_constancy_loss: 0.2054 - val_ConstancyLoss: 0.6801 - val_ExposureLoss: 0.8723\n",
            "Epoch 80/100\n",
            "21/21 [==============================] - 16s 746ms/step - total_loss: 1.6114 - SmoothnessLoss: 0.0071 - spatial_constancy_loss: 0.2443 - ConstancyLoss: 0.5680 - ExposureLoss: 0.7920 - val_total_loss: 1.7671 - val_SmoothnessLoss: 0.0096 - val_spatial_constancy_loss: 0.2057 - val_ConstancyLoss: 0.6804 - val_ExposureLoss: 0.8714\n",
            "Epoch 81/100\n",
            "21/21 [==============================] - 16s 735ms/step - total_loss: 1.6115 - SmoothnessLoss: 0.0071 - spatial_constancy_loss: 0.2444 - ConstancyLoss: 0.5681 - ExposureLoss: 0.7920 - val_total_loss: 1.7678 - val_SmoothnessLoss: 0.0094 - val_spatial_constancy_loss: 0.2048 - val_ConstancyLoss: 0.6797 - val_ExposureLoss: 0.8739\n",
            "Epoch 82/100\n",
            "21/21 [==============================] - 16s 737ms/step - total_loss: 1.6115 - SmoothnessLoss: 0.0070 - spatial_constancy_loss: 0.2440 - ConstancyLoss: 0.5676 - ExposureLoss: 0.7929 - val_total_loss: 1.7671 - val_SmoothnessLoss: 0.0096 - val_spatial_constancy_loss: 0.2062 - val_ConstancyLoss: 0.6814 - val_ExposureLoss: 0.8699\n",
            "Epoch 83/100\n",
            "21/21 [==============================] - 16s 751ms/step - total_loss: 1.6108 - SmoothnessLoss: 0.0067 - spatial_constancy_loss: 0.2445 - ConstancyLoss: 0.5681 - ExposureLoss: 0.7914 - val_total_loss: 1.7668 - val_SmoothnessLoss: 0.0091 - val_spatial_constancy_loss: 0.2054 - val_ConstancyLoss: 0.6803 - val_ExposureLoss: 0.8719\n",
            "Epoch 84/100\n",
            "21/21 [==============================] - 16s 735ms/step - total_loss: 1.6107 - SmoothnessLoss: 0.0065 - spatial_constancy_loss: 0.2442 - ConstancyLoss: 0.5677 - ExposureLoss: 0.7923 - val_total_loss: 1.7667 - val_SmoothnessLoss: 0.0087 - val_spatial_constancy_loss: 0.2053 - val_ConstancyLoss: 0.6805 - val_ExposureLoss: 0.8722\n",
            "Epoch 85/100\n",
            "21/21 [==============================] - 16s 765ms/step - total_loss: 1.6106 - SmoothnessLoss: 0.0065 - spatial_constancy_loss: 0.2443 - ConstancyLoss: 0.5677 - ExposureLoss: 0.7920 - val_total_loss: 1.7662 - val_SmoothnessLoss: 0.0093 - val_spatial_constancy_loss: 0.2064 - val_ConstancyLoss: 0.6813 - val_ExposureLoss: 0.8693\n",
            "Epoch 86/100\n",
            "21/21 [==============================] - 16s 757ms/step - total_loss: 1.6103 - SmoothnessLoss: 0.0064 - spatial_constancy_loss: 0.2446 - ConstancyLoss: 0.5680 - ExposureLoss: 0.7914 - val_total_loss: 1.7660 - val_SmoothnessLoss: 0.0086 - val_spatial_constancy_loss: 0.2061 - val_ConstancyLoss: 0.6812 - val_ExposureLoss: 0.8700\n",
            "Epoch 87/100\n",
            "21/21 [==============================] - 16s 742ms/step - total_loss: 1.6100 - SmoothnessLoss: 0.0062 - spatial_constancy_loss: 0.2449 - ConstancyLoss: 0.5682 - ExposureLoss: 0.7907 - val_total_loss: 1.7663 - val_SmoothnessLoss: 0.0081 - val_spatial_constancy_loss: 0.2047 - val_ConstancyLoss: 0.6797 - val_ExposureLoss: 0.8738\n",
            "Epoch 88/100\n",
            "21/21 [==============================] - 16s 754ms/step - total_loss: 1.6103 - SmoothnessLoss: 0.0062 - spatial_constancy_loss: 0.2440 - ConstancyLoss: 0.5673 - ExposureLoss: 0.7927 - val_total_loss: 1.7661 - val_SmoothnessLoss: 0.0087 - val_spatial_constancy_loss: 0.2063 - val_ConstancyLoss: 0.6818 - val_ExposureLoss: 0.8692\n",
            "Epoch 89/100\n",
            "21/21 [==============================] - 16s 757ms/step - total_loss: 1.6096 - SmoothnessLoss: 0.0059 - spatial_constancy_loss: 0.2450 - ConstancyLoss: 0.5682 - ExposureLoss: 0.7905 - val_total_loss: 1.7655 - val_SmoothnessLoss: 0.0081 - val_spatial_constancy_loss: 0.2060 - val_ConstancyLoss: 0.6813 - val_ExposureLoss: 0.8701\n",
            "Epoch 90/100\n",
            "21/21 [==============================] - 16s 765ms/step - total_loss: 1.6097 - SmoothnessLoss: 0.0059 - spatial_constancy_loss: 0.2445 - ConstancyLoss: 0.5678 - ExposureLoss: 0.7915 - val_total_loss: 1.7654 - val_SmoothnessLoss: 0.0082 - val_spatial_constancy_loss: 0.2067 - val_ConstancyLoss: 0.6823 - val_ExposureLoss: 0.8682\n",
            "Epoch 91/100\n",
            "21/21 [==============================] - 16s 770ms/step - total_loss: 1.6096 - SmoothnessLoss: 0.0061 - spatial_constancy_loss: 0.2451 - ConstancyLoss: 0.5681 - ExposureLoss: 0.7903 - val_total_loss: 1.7656 - val_SmoothnessLoss: 0.0084 - val_spatial_constancy_loss: 0.2060 - val_ConstancyLoss: 0.6811 - val_ExposureLoss: 0.8701\n",
            "Epoch 92/100\n",
            "21/21 [==============================] - 16s 744ms/step - total_loss: 1.6095 - SmoothnessLoss: 0.0061 - spatial_constancy_loss: 0.2447 - ConstancyLoss: 0.5679 - ExposureLoss: 0.7908 - val_total_loss: 1.7652 - val_SmoothnessLoss: 0.0084 - val_spatial_constancy_loss: 0.2063 - val_ConstancyLoss: 0.6814 - val_ExposureLoss: 0.8692\n",
            "Epoch 93/100\n",
            "21/21 [==============================] - 16s 771ms/step - total_loss: 1.6095 - SmoothnessLoss: 0.0058 - spatial_constancy_loss: 0.2445 - ConstancyLoss: 0.5678 - ExposureLoss: 0.7914 - val_total_loss: 1.7654 - val_SmoothnessLoss: 0.0082 - val_spatial_constancy_loss: 0.2064 - val_ConstancyLoss: 0.6819 - val_ExposureLoss: 0.8687\n",
            "Epoch 94/100\n",
            "21/21 [==============================] - 16s 772ms/step - total_loss: 1.6089 - SmoothnessLoss: 0.0054 - spatial_constancy_loss: 0.2452 - ConstancyLoss: 0.5681 - ExposureLoss: 0.7902 - val_total_loss: 1.7653 - val_SmoothnessLoss: 0.0072 - val_spatial_constancy_loss: 0.2057 - val_ConstancyLoss: 0.6817 - val_ExposureLoss: 0.8707\n",
            "Epoch 95/100\n",
            "21/21 [==============================] - 16s 734ms/step - total_loss: 1.6090 - SmoothnessLoss: 0.0056 - spatial_constancy_loss: 0.2445 - ConstancyLoss: 0.5675 - ExposureLoss: 0.7915 - val_total_loss: 1.7652 - val_SmoothnessLoss: 0.0082 - val_spatial_constancy_loss: 0.2070 - val_ConstancyLoss: 0.6827 - val_ExposureLoss: 0.8672\n",
            "Epoch 96/100\n",
            "21/21 [==============================] - 16s 737ms/step - total_loss: 1.6086 - SmoothnessLoss: 0.0056 - spatial_constancy_loss: 0.2451 - ConstancyLoss: 0.5680 - ExposureLoss: 0.7899 - val_total_loss: 1.7650 - val_SmoothnessLoss: 0.0077 - val_spatial_constancy_loss: 0.2062 - val_ConstancyLoss: 0.6818 - val_ExposureLoss: 0.8692\n",
            "Epoch 97/100\n",
            "21/21 [==============================] - 16s 747ms/step - total_loss: 1.6089 - SmoothnessLoss: 0.0056 - spatial_constancy_loss: 0.2447 - ConstancyLoss: 0.5677 - ExposureLoss: 0.7910 - val_total_loss: 1.7650 - val_SmoothnessLoss: 0.0079 - val_spatial_constancy_loss: 0.2066 - val_ConstancyLoss: 0.6823 - val_ExposureLoss: 0.8682\n",
            "Epoch 98/100\n",
            "21/21 [==============================] - 16s 759ms/step - total_loss: 1.6083 - SmoothnessLoss: 0.0052 - spatial_constancy_loss: 0.2451 - ConstancyLoss: 0.5679 - ExposureLoss: 0.7901 - val_total_loss: 1.7643 - val_SmoothnessLoss: 0.0072 - val_spatial_constancy_loss: 0.2067 - val_ConstancyLoss: 0.6826 - val_ExposureLoss: 0.8678\n",
            "Epoch 99/100\n",
            "21/21 [==============================] - 16s 743ms/step - total_loss: 1.6085 - SmoothnessLoss: 0.0054 - spatial_constancy_loss: 0.2450 - ConstancyLoss: 0.5678 - ExposureLoss: 0.7903 - val_total_loss: 1.7645 - val_SmoothnessLoss: 0.0080 - val_spatial_constancy_loss: 0.2072 - val_ConstancyLoss: 0.6829 - val_ExposureLoss: 0.8663\n",
            "Epoch 100/100\n",
            "21/21 [==============================] - 16s 763ms/step - total_loss: 1.6082 - SmoothnessLoss: 0.0052 - spatial_constancy_loss: 0.2452 - ConstancyLoss: 0.5680 - ExposureLoss: 0.7898 - val_total_loss: 1.7642 - val_SmoothnessLoss: 0.0074 - val_spatial_constancy_loss: 0.2071 - val_ConstancyLoss: 0.6830 - val_ExposureLoss: 0.8667\n"
          ]
        },
        {
          "output_type": "stream",
          "name": "stderr",
          "text": [
            "/usr/local/lib/python3.10/dist-packages/keras/src/engine/training.py:3103: UserWarning: You are saving your model as an HDF5 file via `model.save()`. This file format is considered legacy. We recommend using instead the native Keras format, e.g. `model.save('my_model.keras')`.\n",
            "  saving_api.save_model(\n"
          ]
        },
        {
          "output_type": "error",
          "ename": "NotImplementedError",
          "evalue": "Saving the model to HDF5 format requires the model to be a Functional model or a Sequential model. It does not work for subclassed models, because such models are defined via the body of a Python method, which isn't safely serializable. Consider saving to the Tensorflow SavedModel format (by setting save_format=\"tf\") or using `save_weights`.",
          "traceback": [
            "\u001b[0;31m---------------------------------------------------------------------------\u001b[0m",
            "\u001b[0;31mNotImplementedError\u001b[0m                       Traceback (most recent call last)",
            "\u001b[0;32m<ipython-input-14-094aa3f5744b>\u001b[0m in \u001b[0;36m<cell line: 4>\u001b[0;34m()\u001b[0m\n\u001b[1;32m      2\u001b[0m \u001b[0mmodel\u001b[0m\u001b[0;34m.\u001b[0m\u001b[0mcompile\u001b[0m\u001b[0;34m(\u001b[0m\u001b[0mlearning_rate\u001b[0m\u001b[0;34m=\u001b[0m\u001b[0;36m1e-4\u001b[0m\u001b[0;34m)\u001b[0m\u001b[0;34m\u001b[0m\u001b[0;34m\u001b[0m\u001b[0m\n\u001b[1;32m      3\u001b[0m \u001b[0mhistory\u001b[0m \u001b[0;34m=\u001b[0m \u001b[0mmodel\u001b[0m\u001b[0;34m.\u001b[0m\u001b[0mfit\u001b[0m\u001b[0;34m(\u001b[0m\u001b[0mtrain_dataset\u001b[0m\u001b[0;34m,\u001b[0m \u001b[0mvalidation_data\u001b[0m\u001b[0;34m=\u001b[0m\u001b[0mval_dataset\u001b[0m\u001b[0;34m,\u001b[0m \u001b[0mepochs\u001b[0m\u001b[0;34m=\u001b[0m\u001b[0;36m100\u001b[0m\u001b[0;34m)\u001b[0m\u001b[0;34m\u001b[0m\u001b[0;34m\u001b[0m\u001b[0m\n\u001b[0;32m----> 4\u001b[0;31m \u001b[0mmodel\u001b[0m\u001b[0;34m.\u001b[0m\u001b[0msave\u001b[0m\u001b[0;34m(\u001b[0m\u001b[0;34m'/content/drive/MyDrive/lol_dataset/sphgetti_net.h5'\u001b[0m\u001b[0;34m)\u001b[0m\u001b[0;34m\u001b[0m\u001b[0;34m\u001b[0m\u001b[0m\n\u001b[0m",
            "\u001b[0;32m/usr/local/lib/python3.10/dist-packages/keras/src/utils/traceback_utils.py\u001b[0m in \u001b[0;36merror_handler\u001b[0;34m(*args, **kwargs)\u001b[0m\n\u001b[1;32m     68\u001b[0m             \u001b[0;31m# To get the full stack trace, call:\u001b[0m\u001b[0;34m\u001b[0m\u001b[0;34m\u001b[0m\u001b[0m\n\u001b[1;32m     69\u001b[0m             \u001b[0;31m# `tf.debugging.disable_traceback_filtering()`\u001b[0m\u001b[0;34m\u001b[0m\u001b[0;34m\u001b[0m\u001b[0m\n\u001b[0;32m---> 70\u001b[0;31m             \u001b[0;32mraise\u001b[0m \u001b[0me\u001b[0m\u001b[0;34m.\u001b[0m\u001b[0mwith_traceback\u001b[0m\u001b[0;34m(\u001b[0m\u001b[0mfiltered_tb\u001b[0m\u001b[0;34m)\u001b[0m \u001b[0;32mfrom\u001b[0m \u001b[0;32mNone\u001b[0m\u001b[0;34m\u001b[0m\u001b[0;34m\u001b[0m\u001b[0m\n\u001b[0m\u001b[1;32m     71\u001b[0m         \u001b[0;32mfinally\u001b[0m\u001b[0;34m:\u001b[0m\u001b[0;34m\u001b[0m\u001b[0;34m\u001b[0m\u001b[0m\n\u001b[1;32m     72\u001b[0m             \u001b[0;32mdel\u001b[0m \u001b[0mfiltered_tb\u001b[0m\u001b[0;34m\u001b[0m\u001b[0;34m\u001b[0m\u001b[0m\n",
            "\u001b[0;32m/usr/local/lib/python3.10/dist-packages/keras/src/saving/legacy/save.py\u001b[0m in \u001b[0;36msave_model\u001b[0;34m(model, filepath, overwrite, include_optimizer, save_format, signatures, options, save_traces)\u001b[0m\n\u001b[1;32m    150\u001b[0m             \u001b[0mmodel\u001b[0m\u001b[0;34m,\u001b[0m \u001b[0msequential\u001b[0m\u001b[0;34m.\u001b[0m\u001b[0mSequential\u001b[0m\u001b[0;34m\u001b[0m\u001b[0;34m\u001b[0m\u001b[0m\n\u001b[1;32m    151\u001b[0m         ):\n\u001b[0;32m--> 152\u001b[0;31m             raise NotImplementedError(\n\u001b[0m\u001b[1;32m    153\u001b[0m                 \u001b[0;34m\"Saving the model to HDF5 format requires the model to be a \"\u001b[0m\u001b[0;34m\u001b[0m\u001b[0;34m\u001b[0m\u001b[0m\n\u001b[1;32m    154\u001b[0m                 \u001b[0;34m\"Functional model or a Sequential model. It does not work for \"\u001b[0m\u001b[0;34m\u001b[0m\u001b[0;34m\u001b[0m\u001b[0m\n",
            "\u001b[0;31mNotImplementedError\u001b[0m: Saving the model to HDF5 format requires the model to be a Functional model or a Sequential model. It does not work for subclassed models, because such models are defined via the body of a Python method, which isn't safely serializable. Consider saving to the Tensorflow SavedModel format (by setting save_format=\"tf\") or using `save_weights`."
          ]
        }
      ]
    },
    {
      "cell_type": "code",
      "source": [
        "model.save_weights('/content/drive/MyDrive/lol_dataset/sphgetti_net.h5')"
      ],
      "metadata": {
        "id": "_JKTdiwSKZly"
      },
      "execution_count": 16,
      "outputs": []
    },
    {
      "cell_type": "code",
      "source": [
        "pred=model.predict(test_dataset)"
      ],
      "metadata": {
        "colab": {
          "base_uri": "https://localhost:8080/"
        },
        "id": "IReY2fgEuZg_",
        "outputId": "6b333dad-f938-4851-93b3-fc4d7e96600a"
      },
      "execution_count": 18,
      "outputs": [
        {
          "output_type": "stream",
          "name": "stdout",
          "text": [
            "15/15 [==============================] - 30s 110ms/step\n"
          ]
        }
      ]
    },
    {
      "cell_type": "code",
      "source": [
        "y_test_images = sorted(glob(\"/content/drive/MyDrive/lol_dataset/eval15/high/*\"))\n",
        "y_test=[]\n",
        "for file in y_test_images:\n",
        "  img = tf.io.read_file(file)\n",
        "  img = tf.image.decode_png(img, channels=3)\n",
        "  img = tf.image.resize(images=img, size=[350, 350])\n",
        "  img = img / 255.0\n",
        "  y_test.append(img)"
      ],
      "metadata": {
        "id": "6uRsI0Dc3var"
      },
      "execution_count": 23,
      "outputs": []
    },
    {
      "cell_type": "code",
      "source": [
        "def PSNR(original, compressed):\n",
        "    mse = np.mean((original - compressed) ** 2)\n",
        "    if(mse == 0):\n",
        "        return 100\n",
        "    max_pixel = 1.0\n",
        "    psnr = 20 * log10(max_pixel / sqrt(mse))\n",
        "    return psnr"
      ],
      "metadata": {
        "id": "palVhoC25M_-"
      },
      "execution_count": 24,
      "outputs": []
    },
    {
      "cell_type": "code",
      "source": [
        "y_test=np.array(y_test)"
      ],
      "metadata": {
        "id": "kwRGZfea73mZ"
      },
      "execution_count": 25,
      "outputs": []
    },
    {
      "cell_type": "code",
      "source": [
        "PSNR(y_test,pred)"
      ],
      "metadata": {
        "colab": {
          "base_uri": "https://localhost:8080/"
        },
        "id": "lbs1sL544S6D",
        "outputId": "beec5c22-870f-48fb-a97a-6addedc4e77c"
      },
      "execution_count": 26,
      "outputs": [
        {
          "output_type": "execute_result",
          "data": {
            "text/plain": [
              "16.262246484085246"
            ]
          },
          "metadata": {},
          "execution_count": 26
        }
      ]
    },
    {
      "cell_type": "code",
      "source": [
        "def mse(image01,image02):\n",
        "    error= np.sum((image01.astype(\"float\")- image02.astype(\"float\"))**2)\n",
        "    error= error/float(image01.shape[0]*image02.shape[1])\n",
        "    return error"
      ],
      "metadata": {
        "id": "CW1gdXD053vb"
      },
      "execution_count": 29,
      "outputs": []
    },
    {
      "cell_type": "code",
      "source": [
        "def mae(image01,image02):\n",
        "    error= np.sum(abs(image01.astype(\"float\")- image02.astype(\"float\")))\n",
        "    error= error/float(image01.shape[0]*image02.shape[1])\n",
        "    return error"
      ],
      "metadata": {
        "id": "BvzxYxVZ8ILN"
      },
      "execution_count": 30,
      "outputs": []
    },
    {
      "cell_type": "code",
      "source": [
        "mse_err=[]\n",
        "mae_err=[]\n",
        "for i in range(len(y_test)):\n",
        "  mse_err.append(mse(y_test[i],pred[i]))\n",
        "  mae_err.append(mae(y_test[i],pred[i]))\n",
        "print(np.mean(mse_err))\n",
        "print(np.mean(mae_err))"
      ],
      "metadata": {
        "colab": {
          "base_uri": "https://localhost:8080/"
        },
        "id": "id27lKwb6GL7",
        "outputId": "1e51b0f5-580a-4521-ca34-42186465c54c"
      },
      "execution_count": 31,
      "outputs": [
        {
          "output_type": "stream",
          "name": "stdout",
          "text": [
            "0.07094090382335115\n",
            "0.3514192849433121\n"
          ]
        }
      ]
    },
    {
      "cell_type": "markdown",
      "source": [
        "# Evaluation"
      ],
      "metadata": {
        "id": "L6S7Ep4wLHt6"
      }
    },
    {
      "cell_type": "code",
      "source": [
        "test_img = sorted(glob(\"./test/low/*\"))\n",
        "batch_size=1\n",
        "test_ = data_preprocess1(test_img)"
      ],
      "metadata": {
        "id": "Z02DMrqJ7wLq"
      },
      "execution_count": 31,
      "outputs": []
    },
    {
      "cell_type": "code",
      "source": [
        "from PIL import Image\n",
        "in=1\n",
        "for arr in test_:\n",
        "  im = Image.fromarray(arr)\n",
        "  im.save(f\"./test/predicted/{in}.jpeg\")\n",
        "  in+=1"
      ],
      "metadata": {
        "id": "lRQPuKCNLrmE"
      },
      "execution_count": null,
      "outputs": []
    }
  ]
}